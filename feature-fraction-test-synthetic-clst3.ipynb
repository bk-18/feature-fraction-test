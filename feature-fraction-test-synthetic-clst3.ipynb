{
 "cells": [
  {
   "cell_type": "code",
   "execution_count": 121,
   "metadata": {
    "ExecuteTime": {
     "end_time": "2020-08-30T02:20:35.683080Z",
     "start_time": "2020-08-30T02:20:35.675168Z"
    },
    "_cell_guid": "b1076dfc-b9ad-4769-8c92-a6c4dae69d19",
    "_uuid": "8f2839f25d086af736a60e9eeb907d3b93b6e0e5"
   },
   "outputs": [],
   "source": [
    "import numpy as np\n",
    "import pandas as pd\n",
    "import datetime\n",
    "import gc\n",
    "import matplotlib.pyplot as plt\n",
    "import seaborn as sns\n",
    "import lightgbm as lgb\n",
    "from sklearn.model_selection import KFold\n",
    "from sklearn.metrics import mean_squared_error\n",
    "from sklearn import preprocessing\n",
    "import warnings\n",
    "warnings.filterwarnings(\"ignore\")\n",
    "\n",
    "pd.set_option(\"display.float_format\",\"{:.3f}\".format)"
   ]
  },
  {
   "cell_type": "code",
   "execution_count": 122,
   "metadata": {
    "ExecuteTime": {
     "end_time": "2020-08-30T02:20:35.693509Z",
     "start_time": "2020-08-30T02:20:35.687594Z"
    }
   },
   "outputs": [],
   "source": [
    "from sklearn.datasets import make_classification"
   ]
  },
  {
   "cell_type": "code",
   "execution_count": 123,
   "metadata": {
    "ExecuteTime": {
     "end_time": "2020-08-30T02:20:35.714644Z",
     "start_time": "2020-08-30T02:20:35.702686Z"
    }
   },
   "outputs": [],
   "source": [
    "n_seeds_trial = 10"
   ]
  },
  {
   "cell_type": "code",
   "execution_count": 124,
   "metadata": {
    "ExecuteTime": {
     "end_time": "2020-08-30T02:20:35.748545Z",
     "start_time": "2020-08-30T02:20:35.721579Z"
    }
   },
   "outputs": [],
   "source": [
    "X, y = make_classification(\n",
    "    n_samples=10000,\n",
    "    n_features=20,\n",
    "    n_informative=3, \n",
    "    n_redundant=0, \n",
    "    n_repeated=0, \n",
    "    n_classes=2, \n",
    "    n_clusters_per_class=3, \n",
    "    weights=None, \n",
    "    flip_y=0.01, \n",
    "    class_sep=1.0,\n",
    "    hypercube=True,\n",
    "    shift=0.0,\n",
    "    scale=1.0,\n",
    "    shuffle=False,\n",
    "    random_state=2020)"
   ]
  },
  {
   "cell_type": "code",
   "execution_count": 125,
   "metadata": {
    "ExecuteTime": {
     "end_time": "2020-08-30T02:20:35.762857Z",
     "start_time": "2020-08-30T02:20:35.752499Z"
    }
   },
   "outputs": [],
   "source": [
    "df = pd.DataFrame(X)\n",
    "df.columns = [\"feature_\" + str(col) for col in df.columns]\n",
    "df[\"target\"] = y"
   ]
  },
  {
   "cell_type": "code",
   "execution_count": 126,
   "metadata": {
    "ExecuteTime": {
     "end_time": "2020-08-30T02:20:35.802149Z",
     "start_time": "2020-08-30T02:20:35.769286Z"
    }
   },
   "outputs": [
    {
     "data": {
      "text/html": [
       "<div>\n",
       "<style scoped>\n",
       "    .dataframe tbody tr th:only-of-type {\n",
       "        vertical-align: middle;\n",
       "    }\n",
       "\n",
       "    .dataframe tbody tr th {\n",
       "        vertical-align: top;\n",
       "    }\n",
       "\n",
       "    .dataframe thead th {\n",
       "        text-align: right;\n",
       "    }\n",
       "</style>\n",
       "<table border=\"1\" class=\"dataframe\">\n",
       "  <thead>\n",
       "    <tr style=\"text-align: right;\">\n",
       "      <th></th>\n",
       "      <th>feature_0</th>\n",
       "      <th>feature_1</th>\n",
       "      <th>feature_2</th>\n",
       "      <th>feature_3</th>\n",
       "      <th>feature_4</th>\n",
       "      <th>feature_5</th>\n",
       "      <th>feature_6</th>\n",
       "      <th>feature_7</th>\n",
       "      <th>feature_8</th>\n",
       "      <th>feature_9</th>\n",
       "      <th>...</th>\n",
       "      <th>feature_11</th>\n",
       "      <th>feature_12</th>\n",
       "      <th>feature_13</th>\n",
       "      <th>feature_14</th>\n",
       "      <th>feature_15</th>\n",
       "      <th>feature_16</th>\n",
       "      <th>feature_17</th>\n",
       "      <th>feature_18</th>\n",
       "      <th>feature_19</th>\n",
       "      <th>target</th>\n",
       "    </tr>\n",
       "  </thead>\n",
       "  <tbody>\n",
       "    <tr>\n",
       "      <th>0</th>\n",
       "      <td>0.728</td>\n",
       "      <td>0.519</td>\n",
       "      <td>-1.190</td>\n",
       "      <td>0.379</td>\n",
       "      <td>-0.728</td>\n",
       "      <td>-2.444</td>\n",
       "      <td>-2.333</td>\n",
       "      <td>-0.888</td>\n",
       "      <td>-1.222</td>\n",
       "      <td>0.031</td>\n",
       "      <td>...</td>\n",
       "      <td>0.163</td>\n",
       "      <td>2.503</td>\n",
       "      <td>0.089</td>\n",
       "      <td>0.513</td>\n",
       "      <td>0.381</td>\n",
       "      <td>1.238</td>\n",
       "      <td>-0.398</td>\n",
       "      <td>0.799</td>\n",
       "      <td>-0.576</td>\n",
       "      <td>0</td>\n",
       "    </tr>\n",
       "    <tr>\n",
       "      <th>1</th>\n",
       "      <td>0.638</td>\n",
       "      <td>1.541</td>\n",
       "      <td>-2.292</td>\n",
       "      <td>1.864</td>\n",
       "      <td>-0.453</td>\n",
       "      <td>0.263</td>\n",
       "      <td>1.344</td>\n",
       "      <td>0.138</td>\n",
       "      <td>0.106</td>\n",
       "      <td>0.599</td>\n",
       "      <td>...</td>\n",
       "      <td>0.022</td>\n",
       "      <td>-0.746</td>\n",
       "      <td>-1.226</td>\n",
       "      <td>-1.281</td>\n",
       "      <td>-2.477</td>\n",
       "      <td>-1.168</td>\n",
       "      <td>0.082</td>\n",
       "      <td>0.020</td>\n",
       "      <td>-0.201</td>\n",
       "      <td>0</td>\n",
       "    </tr>\n",
       "    <tr>\n",
       "      <th>2</th>\n",
       "      <td>1.130</td>\n",
       "      <td>0.019</td>\n",
       "      <td>0.231</td>\n",
       "      <td>-0.211</td>\n",
       "      <td>-1.146</td>\n",
       "      <td>0.667</td>\n",
       "      <td>1.113</td>\n",
       "      <td>1.976</td>\n",
       "      <td>-0.197</td>\n",
       "      <td>0.140</td>\n",
       "      <td>...</td>\n",
       "      <td>0.014</td>\n",
       "      <td>-1.018</td>\n",
       "      <td>0.783</td>\n",
       "      <td>-1.218</td>\n",
       "      <td>-1.918</td>\n",
       "      <td>-0.867</td>\n",
       "      <td>-1.993</td>\n",
       "      <td>0.729</td>\n",
       "      <td>-2.003</td>\n",
       "      <td>0</td>\n",
       "    </tr>\n",
       "    <tr>\n",
       "      <th>3</th>\n",
       "      <td>1.953</td>\n",
       "      <td>-0.384</td>\n",
       "      <td>0.908</td>\n",
       "      <td>-0.706</td>\n",
       "      <td>0.761</td>\n",
       "      <td>0.252</td>\n",
       "      <td>-1.770</td>\n",
       "      <td>-0.522</td>\n",
       "      <td>-0.716</td>\n",
       "      <td>-0.532</td>\n",
       "      <td>...</td>\n",
       "      <td>-1.764</td>\n",
       "      <td>-0.548</td>\n",
       "      <td>0.793</td>\n",
       "      <td>0.463</td>\n",
       "      <td>1.880</td>\n",
       "      <td>-0.187</td>\n",
       "      <td>0.433</td>\n",
       "      <td>0.181</td>\n",
       "      <td>1.528</td>\n",
       "      <td>0</td>\n",
       "    </tr>\n",
       "    <tr>\n",
       "      <th>4</th>\n",
       "      <td>0.774</td>\n",
       "      <td>0.296</td>\n",
       "      <td>0.043</td>\n",
       "      <td>1.660</td>\n",
       "      <td>-1.367</td>\n",
       "      <td>1.029</td>\n",
       "      <td>-0.196</td>\n",
       "      <td>1.056</td>\n",
       "      <td>-0.453</td>\n",
       "      <td>-0.395</td>\n",
       "      <td>...</td>\n",
       "      <td>1.344</td>\n",
       "      <td>1.518</td>\n",
       "      <td>-0.554</td>\n",
       "      <td>1.552</td>\n",
       "      <td>1.388</td>\n",
       "      <td>-1.182</td>\n",
       "      <td>-0.961</td>\n",
       "      <td>0.331</td>\n",
       "      <td>-0.565</td>\n",
       "      <td>0</td>\n",
       "    </tr>\n",
       "  </tbody>\n",
       "</table>\n",
       "<p>5 rows × 21 columns</p>\n",
       "</div>"
      ],
      "text/plain": [
       "   feature_0  feature_1  feature_2  feature_3  feature_4  feature_5  \\\n",
       "0      0.728      0.519     -1.190      0.379     -0.728     -2.444   \n",
       "1      0.638      1.541     -2.292      1.864     -0.453      0.263   \n",
       "2      1.130      0.019      0.231     -0.211     -1.146      0.667   \n",
       "3      1.953     -0.384      0.908     -0.706      0.761      0.252   \n",
       "4      0.774      0.296      0.043      1.660     -1.367      1.029   \n",
       "\n",
       "   feature_6  feature_7  feature_8  feature_9  ...  feature_11  feature_12  \\\n",
       "0     -2.333     -0.888     -1.222      0.031  ...       0.163       2.503   \n",
       "1      1.344      0.138      0.106      0.599  ...       0.022      -0.746   \n",
       "2      1.113      1.976     -0.197      0.140  ...       0.014      -1.018   \n",
       "3     -1.770     -0.522     -0.716     -0.532  ...      -1.764      -0.548   \n",
       "4     -0.196      1.056     -0.453     -0.395  ...       1.344       1.518   \n",
       "\n",
       "   feature_13  feature_14  feature_15  feature_16  feature_17  feature_18  \\\n",
       "0       0.089       0.513       0.381       1.238      -0.398       0.799   \n",
       "1      -1.226      -1.281      -2.477      -1.168       0.082       0.020   \n",
       "2       0.783      -1.218      -1.918      -0.867      -1.993       0.729   \n",
       "3       0.793       0.463       1.880      -0.187       0.433       0.181   \n",
       "4      -0.554       1.552       1.388      -1.182      -0.961       0.331   \n",
       "\n",
       "   feature_19  target  \n",
       "0      -0.576       0  \n",
       "1      -0.201       0  \n",
       "2      -2.003       0  \n",
       "3       1.528       0  \n",
       "4      -0.565       0  \n",
       "\n",
       "[5 rows x 21 columns]"
      ]
     },
     "execution_count": 126,
     "metadata": {},
     "output_type": "execute_result"
    }
   ],
   "source": [
    "df.head()"
   ]
  },
  {
   "cell_type": "code",
   "execution_count": 127,
   "metadata": {
    "ExecuteTime": {
     "end_time": "2020-08-30T02:20:35.811989Z",
     "start_time": "2020-08-30T02:20:35.805659Z"
    }
   },
   "outputs": [],
   "source": [
    "cols = [col for col in df.columns if col not in [\"target\"]]\n",
    "kf = KFold(n_splits = 5,random_state = 2020)"
   ]
  },
  {
   "cell_type": "code",
   "execution_count": 128,
   "metadata": {
    "ExecuteTime": {
     "end_time": "2020-08-30T02:20:35.820196Z",
     "start_time": "2020-08-30T02:20:35.814562Z"
    }
   },
   "outputs": [],
   "source": [
    "param = {\"objective\":\"binary\",\n",
    "         \"learning_rate\": 0.1,\n",
    "         \"metric\": \"auc\"\n",
    "        }"
   ]
  },
  {
   "cell_type": "code",
   "execution_count": 129,
   "metadata": {
    "ExecuteTime": {
     "end_time": "2020-08-30T02:22:10.961414Z",
     "start_time": "2020-08-30T02:20:35.823159Z"
    }
   },
   "outputs": [
    {
     "name": "stdout",
     "output_type": "stream",
     "text": [
      "Training until validation scores don't improve for 100 rounds\n",
      "Early stopping, best iteration is:\n",
      "[1]\ttraining's auc: 0.967006\tvalid_1's auc: 0.58502\n",
      "Training until validation scores don't improve for 100 rounds\n",
      "Early stopping, best iteration is:\n",
      "[45]\ttraining's auc: 0.984778\tvalid_1's auc: 0.949258\n",
      "Training until validation scores don't improve for 100 rounds\n",
      "Early stopping, best iteration is:\n",
      "[43]\ttraining's auc: 0.990035\tvalid_1's auc: 0.907166\n",
      "Training until validation scores don't improve for 100 rounds\n",
      "Early stopping, best iteration is:\n",
      "[4]\ttraining's auc: 0.964104\tvalid_1's auc: 0.902604\n",
      "Training until validation scores don't improve for 100 rounds\n",
      "Early stopping, best iteration is:\n",
      "[885]\ttraining's auc: 1\tvalid_1's auc: 0.698563\n",
      "Training until validation scores don't improve for 100 rounds\n",
      "Early stopping, best iteration is:\n",
      "[1]\ttraining's auc: 0.967006\tvalid_1's auc: 0.58502\n",
      "Training until validation scores don't improve for 100 rounds\n",
      "Early stopping, best iteration is:\n",
      "[45]\ttraining's auc: 0.984778\tvalid_1's auc: 0.949258\n",
      "Training until validation scores don't improve for 100 rounds\n",
      "Early stopping, best iteration is:\n",
      "[43]\ttraining's auc: 0.990035\tvalid_1's auc: 0.907166\n",
      "Training until validation scores don't improve for 100 rounds\n",
      "Early stopping, best iteration is:\n",
      "[4]\ttraining's auc: 0.964104\tvalid_1's auc: 0.902604\n",
      "Training until validation scores don't improve for 100 rounds\n",
      "Early stopping, best iteration is:\n",
      "[885]\ttraining's auc: 1\tvalid_1's auc: 0.698563\n",
      "Training until validation scores don't improve for 100 rounds\n",
      "Early stopping, best iteration is:\n",
      "[1]\ttraining's auc: 0.967006\tvalid_1's auc: 0.58502\n",
      "Training until validation scores don't improve for 100 rounds\n",
      "Early stopping, best iteration is:\n",
      "[45]\ttraining's auc: 0.984778\tvalid_1's auc: 0.949258\n",
      "Training until validation scores don't improve for 100 rounds\n",
      "Early stopping, best iteration is:\n",
      "[43]\ttraining's auc: 0.990035\tvalid_1's auc: 0.907166\n",
      "Training until validation scores don't improve for 100 rounds\n",
      "Early stopping, best iteration is:\n",
      "[4]\ttraining's auc: 0.964104\tvalid_1's auc: 0.902604\n",
      "Training until validation scores don't improve for 100 rounds\n",
      "Early stopping, best iteration is:\n",
      "[885]\ttraining's auc: 1\tvalid_1's auc: 0.698563\n",
      "Training until validation scores don't improve for 100 rounds\n",
      "Early stopping, best iteration is:\n",
      "[1]\ttraining's auc: 0.967006\tvalid_1's auc: 0.58502\n",
      "Training until validation scores don't improve for 100 rounds\n",
      "Early stopping, best iteration is:\n",
      "[45]\ttraining's auc: 0.984778\tvalid_1's auc: 0.949258\n",
      "Training until validation scores don't improve for 100 rounds\n",
      "Early stopping, best iteration is:\n",
      "[43]\ttraining's auc: 0.990035\tvalid_1's auc: 0.907166\n",
      "Training until validation scores don't improve for 100 rounds\n",
      "Early stopping, best iteration is:\n",
      "[4]\ttraining's auc: 0.964104\tvalid_1's auc: 0.902604\n",
      "Training until validation scores don't improve for 100 rounds\n",
      "Early stopping, best iteration is:\n",
      "[885]\ttraining's auc: 1\tvalid_1's auc: 0.698563\n",
      "Training until validation scores don't improve for 100 rounds\n",
      "Early stopping, best iteration is:\n",
      "[1]\ttraining's auc: 0.967006\tvalid_1's auc: 0.58502\n",
      "Training until validation scores don't improve for 100 rounds\n",
      "Early stopping, best iteration is:\n",
      "[45]\ttraining's auc: 0.984778\tvalid_1's auc: 0.949258\n",
      "Training until validation scores don't improve for 100 rounds\n",
      "Early stopping, best iteration is:\n",
      "[43]\ttraining's auc: 0.990035\tvalid_1's auc: 0.907166\n",
      "Training until validation scores don't improve for 100 rounds\n",
      "Early stopping, best iteration is:\n",
      "[4]\ttraining's auc: 0.964104\tvalid_1's auc: 0.902604\n",
      "Training until validation scores don't improve for 100 rounds\n",
      "Early stopping, best iteration is:\n",
      "[885]\ttraining's auc: 1\tvalid_1's auc: 0.698563\n",
      "Training until validation scores don't improve for 100 rounds\n",
      "Early stopping, best iteration is:\n",
      "[1]\ttraining's auc: 0.967006\tvalid_1's auc: 0.58502\n",
      "Training until validation scores don't improve for 100 rounds\n",
      "Early stopping, best iteration is:\n",
      "[45]\ttraining's auc: 0.984778\tvalid_1's auc: 0.949258\n",
      "Training until validation scores don't improve for 100 rounds\n",
      "Early stopping, best iteration is:\n",
      "[43]\ttraining's auc: 0.990035\tvalid_1's auc: 0.907166\n",
      "Training until validation scores don't improve for 100 rounds\n",
      "Early stopping, best iteration is:\n",
      "[4]\ttraining's auc: 0.964104\tvalid_1's auc: 0.902604\n",
      "Training until validation scores don't improve for 100 rounds\n",
      "Early stopping, best iteration is:\n",
      "[885]\ttraining's auc: 1\tvalid_1's auc: 0.698563\n",
      "Training until validation scores don't improve for 100 rounds\n",
      "Early stopping, best iteration is:\n",
      "[1]\ttraining's auc: 0.967006\tvalid_1's auc: 0.58502\n",
      "Training until validation scores don't improve for 100 rounds\n",
      "Early stopping, best iteration is:\n",
      "[45]\ttraining's auc: 0.984778\tvalid_1's auc: 0.949258\n",
      "Training until validation scores don't improve for 100 rounds\n",
      "Early stopping, best iteration is:\n",
      "[43]\ttraining's auc: 0.990035\tvalid_1's auc: 0.907166\n",
      "Training until validation scores don't improve for 100 rounds\n",
      "Early stopping, best iteration is:\n",
      "[4]\ttraining's auc: 0.964104\tvalid_1's auc: 0.902604\n",
      "Training until validation scores don't improve for 100 rounds\n",
      "Early stopping, best iteration is:\n",
      "[885]\ttraining's auc: 1\tvalid_1's auc: 0.698563\n",
      "Training until validation scores don't improve for 100 rounds\n",
      "Early stopping, best iteration is:\n",
      "[1]\ttraining's auc: 0.967006\tvalid_1's auc: 0.58502\n",
      "Training until validation scores don't improve for 100 rounds\n",
      "Early stopping, best iteration is:\n",
      "[45]\ttraining's auc: 0.984778\tvalid_1's auc: 0.949258\n",
      "Training until validation scores don't improve for 100 rounds\n",
      "Early stopping, best iteration is:\n",
      "[43]\ttraining's auc: 0.990035\tvalid_1's auc: 0.907166\n",
      "Training until validation scores don't improve for 100 rounds\n",
      "Early stopping, best iteration is:\n",
      "[4]\ttraining's auc: 0.964104\tvalid_1's auc: 0.902604\n",
      "Training until validation scores don't improve for 100 rounds\n",
      "Early stopping, best iteration is:\n",
      "[885]\ttraining's auc: 1\tvalid_1's auc: 0.698563\n",
      "Training until validation scores don't improve for 100 rounds\n",
      "Early stopping, best iteration is:\n",
      "[1]\ttraining's auc: 0.967006\tvalid_1's auc: 0.58502\n",
      "Training until validation scores don't improve for 100 rounds\n",
      "Early stopping, best iteration is:\n",
      "[45]\ttraining's auc: 0.984778\tvalid_1's auc: 0.949258\n",
      "Training until validation scores don't improve for 100 rounds\n",
      "Early stopping, best iteration is:\n",
      "[43]\ttraining's auc: 0.990035\tvalid_1's auc: 0.907166\n",
      "Training until validation scores don't improve for 100 rounds\n",
      "Early stopping, best iteration is:\n",
      "[4]\ttraining's auc: 0.964104\tvalid_1's auc: 0.902604\n",
      "Training until validation scores don't improve for 100 rounds\n",
      "Early stopping, best iteration is:\n",
      "[885]\ttraining's auc: 1\tvalid_1's auc: 0.698563\n",
      "Training until validation scores don't improve for 100 rounds\n",
      "Early stopping, best iteration is:\n",
      "[1]\ttraining's auc: 0.967006\tvalid_1's auc: 0.58502\n",
      "Training until validation scores don't improve for 100 rounds\n",
      "Early stopping, best iteration is:\n",
      "[45]\ttraining's auc: 0.984778\tvalid_1's auc: 0.949258\n",
      "Training until validation scores don't improve for 100 rounds\n",
      "Early stopping, best iteration is:\n",
      "[43]\ttraining's auc: 0.990035\tvalid_1's auc: 0.907166\n",
      "Training until validation scores don't improve for 100 rounds\n",
      "Early stopping, best iteration is:\n",
      "[4]\ttraining's auc: 0.964104\tvalid_1's auc: 0.902604\n",
      "Training until validation scores don't improve for 100 rounds\n",
      "Early stopping, best iteration is:\n",
      "[885]\ttraining's auc: 1\tvalid_1's auc: 0.698563\n"
     ]
    }
   ],
   "source": [
    "param[\"feature_fraction\"] = 1.0\n",
    "\n",
    "feature_importance_df_10 = pd.DataFrame()\n",
    "\n",
    "for seed in range(n_seeds_trial):\n",
    "    param[\"feature_fraction_seed\"] = seed\n",
    "    \n",
    "    for fold, (idx_tr, idx_te) in enumerate(kf.split(df)):\n",
    "    \n",
    "        trn_data = lgb.Dataset(df.iloc[idx_tr][cols], label=df.iloc[idx_tr][\"target\"])\n",
    "        val_data = lgb.Dataset(df.iloc[idx_te][cols], label=df.iloc[idx_te][\"target\"])\n",
    "\n",
    "        num_round = 10000\n",
    "        clf = lgb.train(param, trn_data, num_round, valid_sets = [trn_data, val_data], verbose_eval=-1, early_stopping_rounds = 100)\n",
    "\n",
    "        fold_importance_df = pd.DataFrame()\n",
    "        fold_importance_df[\"Feature\"] = cols\n",
    "        fold_importance_df[\"importance\"] = clf.feature_importance(importance_type = \"gain\")\n",
    "        fold_importance_df[\"seed\"] = seed\n",
    "        fold_importance_df[\"fold\"] = fold + 1\n",
    "        feature_importance_df_10 = pd.concat([feature_importance_df_10, fold_importance_df], axis=0)"
   ]
  },
  {
   "cell_type": "code",
   "execution_count": 130,
   "metadata": {
    "ExecuteTime": {
     "end_time": "2020-08-30T02:22:12.848037Z",
     "start_time": "2020-08-30T02:22:10.964394Z"
    }
   },
   "outputs": [
    {
     "data": {
      "image/png": "[encoded data removed]",
      "text/plain": [
       "<Figure size 1008x720 with 1 Axes>"
      ]
     },
     "metadata": {
      "needs_background": "light"
     },
     "output_type": "display_data"
    }
   ],
   "source": [
    "plt.figure(figsize=(14,10))\n",
    "sns.barplot(x=\"importance\",\n",
    "            y=\"Feature\",\n",
    "            data=feature_importance_df_10.sort_values(by=\"importance\",\n",
    "                                           ascending=False))\n",
    "plt.title('LightGBM Features (avg over folds)')\n",
    "plt.tight_layout()"
   ]
  },
  {
   "cell_type": "code",
   "execution_count": 131,
   "metadata": {
    "ExecuteTime": {
     "end_time": "2020-08-30T02:23:00.007753Z",
     "start_time": "2020-08-30T02:22:12.851868Z"
    },
    "scrolled": true
   },
   "outputs": [
    {
     "name": "stdout",
     "output_type": "stream",
     "text": [
      "Training until validation scores don't improve for 100 rounds\n",
      "Early stopping, best iteration is:\n",
      "[7]\ttraining's auc: 0.937958\tvalid_1's auc: 0.556852\n",
      "Training until validation scores don't improve for 100 rounds\n",
      "Early stopping, best iteration is:\n",
      "[30]\ttraining's auc: 0.97256\tvalid_1's auc: 0.953021\n",
      "Training until validation scores don't improve for 100 rounds\n",
      "Early stopping, best iteration is:\n",
      "[344]\ttraining's auc: 1\tvalid_1's auc: 0.894439\n",
      "Training until validation scores don't improve for 100 rounds\n",
      "Early stopping, best iteration is:\n",
      "[71]\ttraining's auc: 0.991338\tvalid_1's auc: 0.885778\n",
      "Training until validation scores don't improve for 100 rounds\n",
      "Early stopping, best iteration is:\n",
      "[8]\ttraining's auc: 0.963463\tvalid_1's auc: 0.860047\n",
      "Training until validation scores don't improve for 100 rounds\n",
      "Early stopping, best iteration is:\n",
      "[2]\ttraining's auc: 0.960526\tvalid_1's auc: 0.634095\n",
      "Training until validation scores don't improve for 100 rounds\n",
      "Early stopping, best iteration is:\n",
      "[60]\ttraining's auc: 0.985009\tvalid_1's auc: 0.946592\n",
      "Training until validation scores don't improve for 100 rounds\n",
      "Early stopping, best iteration is:\n",
      "[107]\ttraining's auc: 0.996739\tvalid_1's auc: 0.885734\n",
      "Training until validation scores don't improve for 100 rounds\n",
      "Early stopping, best iteration is:\n",
      "[107]\ttraining's auc: 0.996075\tvalid_1's auc: 0.884479\n",
      "Training until validation scores don't improve for 100 rounds\n",
      "Early stopping, best iteration is:\n",
      "[12]\ttraining's auc: 0.972907\tvalid_1's auc: 0.832787\n",
      "Training until validation scores don't improve for 100 rounds\n",
      "Early stopping, best iteration is:\n",
      "[5]\ttraining's auc: 0.951214\tvalid_1's auc: 0.686434\n",
      "Training until validation scores don't improve for 100 rounds\n",
      "Early stopping, best iteration is:\n",
      "[72]\ttraining's auc: 0.987976\tvalid_1's auc: 0.946136\n",
      "Training until validation scores don't improve for 100 rounds\n",
      "Early stopping, best iteration is:\n",
      "[348]\ttraining's auc: 1\tvalid_1's auc: 0.889075\n",
      "Training until validation scores don't improve for 100 rounds\n",
      "Early stopping, best iteration is:\n",
      "[205]\ttraining's auc: 0.999946\tvalid_1's auc: 0.886184\n",
      "Training until validation scores don't improve for 100 rounds\n",
      "Early stopping, best iteration is:\n",
      "[24]\ttraining's auc: 0.974802\tvalid_1's auc: 0.814718\n",
      "Training until validation scores don't improve for 100 rounds\n",
      "Early stopping, best iteration is:\n",
      "[2]\ttraining's auc: 0.967563\tvalid_1's auc: 0.66332\n",
      "Training until validation scores don't improve for 100 rounds\n",
      "Early stopping, best iteration is:\n",
      "[67]\ttraining's auc: 0.987602\tvalid_1's auc: 0.947892\n",
      "Training until validation scores don't improve for 100 rounds\n",
      "Early stopping, best iteration is:\n",
      "[2]\ttraining's auc: 0.963513\tvalid_1's auc: 0.895539\n",
      "Training until validation scores don't improve for 100 rounds\n",
      "Early stopping, best iteration is:\n",
      "[5]\ttraining's auc: 0.957015\tvalid_1's auc: 0.905905\n",
      "Training until validation scores don't improve for 100 rounds\n",
      "Early stopping, best iteration is:\n",
      "[36]\ttraining's auc: 0.982062\tvalid_1's auc: 0.735934\n",
      "Training until validation scores don't improve for 100 rounds\n",
      "Early stopping, best iteration is:\n",
      "[2]\ttraining's auc: 0.900073\tvalid_1's auc: 0.63161\n",
      "Training until validation scores don't improve for 100 rounds\n",
      "Early stopping, best iteration is:\n",
      "[73]\ttraining's auc: 0.98894\tvalid_1's auc: 0.944713\n",
      "Training until validation scores don't improve for 100 rounds\n",
      "Early stopping, best iteration is:\n",
      "[155]\ttraining's auc: 0.999691\tvalid_1's auc: 0.89238\n",
      "Training until validation scores don't improve for 100 rounds\n",
      "Early stopping, best iteration is:\n",
      "[143]\ttraining's auc: 0.999045\tvalid_1's auc: 0.890572\n",
      "Training until validation scores don't improve for 100 rounds\n",
      "Early stopping, best iteration is:\n",
      "[13]\ttraining's auc: 0.971577\tvalid_1's auc: 0.778127\n",
      "Training until validation scores don't improve for 100 rounds\n",
      "Early stopping, best iteration is:\n",
      "[1]\ttraining's auc: 0.907319\tvalid_1's auc: 0.533724\n",
      "Training until validation scores don't improve for 100 rounds\n",
      "Early stopping, best iteration is:\n",
      "[40]\ttraining's auc: 0.978069\tvalid_1's auc: 0.949735\n",
      "Training until validation scores don't improve for 100 rounds\n",
      "Early stopping, best iteration is:\n",
      "[218]\ttraining's auc: 0.999999\tvalid_1's auc: 0.895293\n",
      "Training until validation scores don't improve for 100 rounds\n",
      "Early stopping, best iteration is:\n",
      "[218]\ttraining's auc: 0.999986\tvalid_1's auc: 0.887206\n",
      "Training until validation scores don't improve for 100 rounds\n",
      "Early stopping, best iteration is:\n",
      "[3]\ttraining's auc: 0.950298\tvalid_1's auc: 0.783787\n",
      "Training until validation scores don't improve for 100 rounds\n",
      "Early stopping, best iteration is:\n",
      "[5]\ttraining's auc: 0.953318\tvalid_1's auc: 0.529518\n",
      "Training until validation scores don't improve for 100 rounds\n",
      "Early stopping, best iteration is:\n",
      "[19]\ttraining's auc: 0.969253\tvalid_1's auc: 0.946649\n",
      "Training until validation scores don't improve for 100 rounds\n",
      "Early stopping, best iteration is:\n",
      "[100]\ttraining's auc: 0.997319\tvalid_1's auc: 0.897641\n",
      "Training until validation scores don't improve for 100 rounds\n",
      "Early stopping, best iteration is:\n",
      "[255]\ttraining's auc: 1\tvalid_1's auc: 0.891522\n",
      "Training until validation scores don't improve for 100 rounds\n",
      "Early stopping, best iteration is:\n",
      "[2]\ttraining's auc: 0.936953\tvalid_1's auc: 0.844552\n",
      "Training until validation scores don't improve for 100 rounds\n",
      "Early stopping, best iteration is:\n",
      "[64]\ttraining's auc: 0.993085\tvalid_1's auc: 0.535724\n",
      "Training until validation scores don't improve for 100 rounds\n",
      "Early stopping, best iteration is:\n",
      "[30]\ttraining's auc: 0.972346\tvalid_1's auc: 0.94886\n",
      "Training until validation scores don't improve for 100 rounds\n",
      "Early stopping, best iteration is:\n",
      "[273]\ttraining's auc: 1\tvalid_1's auc: 0.892331\n",
      "Training until validation scores don't improve for 100 rounds\n",
      "Early stopping, best iteration is:\n",
      "[281]\ttraining's auc: 1\tvalid_1's auc: 0.885479\n",
      "Training until validation scores don't improve for 100 rounds\n",
      "Early stopping, best iteration is:\n",
      "[9]\ttraining's auc: 0.967715\tvalid_1's auc: 0.816635\n",
      "Training until validation scores don't improve for 100 rounds\n",
      "Early stopping, best iteration is:\n",
      "[1]\ttraining's auc: 0.907073\tvalid_1's auc: 0.533565\n",
      "Training until validation scores don't improve for 100 rounds\n",
      "Early stopping, best iteration is:\n",
      "[62]\ttraining's auc: 0.986569\tvalid_1's auc: 0.950654\n",
      "Training until validation scores don't improve for 100 rounds\n",
      "Early stopping, best iteration is:\n",
      "[177]\ttraining's auc: 0.999926\tvalid_1's auc: 0.88764\n",
      "Training until validation scores don't improve for 100 rounds\n",
      "Early stopping, best iteration is:\n",
      "[194]\ttraining's auc: 0.999954\tvalid_1's auc: 0.88701\n",
      "Training until validation scores don't improve for 100 rounds\n",
      "Early stopping, best iteration is:\n",
      "[23]\ttraining's auc: 0.977556\tvalid_1's auc: 0.721555\n",
      "Training until validation scores don't improve for 100 rounds\n",
      "Early stopping, best iteration is:\n",
      "[5]\ttraining's auc: 0.873955\tvalid_1's auc: 0.540738\n",
      "Training until validation scores don't improve for 100 rounds\n",
      "Early stopping, best iteration is:\n",
      "[20]\ttraining's auc: 0.964923\tvalid_1's auc: 0.946914\n",
      "Training until validation scores don't improve for 100 rounds\n",
      "Early stopping, best iteration is:\n",
      "[184]\ttraining's auc: 0.999943\tvalid_1's auc: 0.891879\n",
      "Training until validation scores don't improve for 100 rounds\n",
      "Early stopping, best iteration is:\n",
      "[139]\ttraining's auc: 0.998598\tvalid_1's auc: 0.887949\n",
      "Training until validation scores don't improve for 100 rounds\n",
      "Early stopping, best iteration is:\n",
      "[4]\ttraining's auc: 0.851406\tvalid_1's auc: 0.779601\n"
     ]
    }
   ],
   "source": [
    "param[\"feature_fraction\"] = 0.5\n",
    "\n",
    "feature_importance_df_05 = pd.DataFrame()\n",
    "\n",
    "for seed in range(n_seeds_trial):\n",
    "    param[\"feature_fraction_seed\"] = seed\n",
    "    \n",
    "    for fold, (idx_tr, idx_te) in enumerate(kf.split(df)):\n",
    "    \n",
    "        trn_data = lgb.Dataset(df.iloc[idx_tr][cols], label=df.iloc[idx_tr][\"target\"])\n",
    "        val_data = lgb.Dataset(df.iloc[idx_te][cols], label=df.iloc[idx_te][\"target\"])\n",
    "\n",
    "        num_round = 10000\n",
    "        clf = lgb.train(param, trn_data, num_round, valid_sets = [trn_data, val_data], verbose_eval=-1, early_stopping_rounds = 100)\n",
    "\n",
    "        fold_importance_df = pd.DataFrame()\n",
    "        fold_importance_df[\"Feature\"] = cols\n",
    "        fold_importance_df[\"importance\"] = clf.feature_importance(importance_type = \"gain\")\n",
    "        fold_importance_df[\"seed\"] = seed\n",
    "        fold_importance_df[\"fold\"] = fold + 1\n",
    "        feature_importance_df_05 = pd.concat([feature_importance_df_05, fold_importance_df], axis=0)"
   ]
  },
  {
   "cell_type": "code",
   "execution_count": 132,
   "metadata": {
    "ExecuteTime": {
     "end_time": "2020-08-30T02:23:02.003742Z",
     "start_time": "2020-08-30T02:23:00.063962Z"
    }
   },
   "outputs": [
    {
     "data": {
      "image/png": "[encoded data removed]",
      "text/plain": [
       "<Figure size 1008x720 with 1 Axes>"
      ]
     },
     "metadata": {
      "needs_background": "light"
     },
     "output_type": "display_data"
    }
   ],
   "source": [
    "plt.figure(figsize=(14,10))\n",
    "sns.barplot(x=\"importance\",\n",
    "            y=\"Feature\",\n",
    "            data=feature_importance_df_05.sort_values(by=\"importance\",\n",
    "                                           ascending=False))\n",
    "plt.title('LightGBM Features (avg over folds)')\n",
    "plt.tight_layout()"
   ]
  },
  {
   "cell_type": "code",
   "execution_count": null,
   "metadata": {},
   "outputs": [],
   "source": []
  },
  {
   "cell_type": "code",
   "execution_count": 133,
   "metadata": {
    "ExecuteTime": {
     "end_time": "2020-08-30T02:23:29.040951Z",
     "start_time": "2020-08-30T02:23:02.007369Z"
    },
    "scrolled": true
   },
   "outputs": [
    {
     "name": "stdout",
     "output_type": "stream",
     "text": [
      "Training until validation scores don't improve for 100 rounds\n",
      "Early stopping, best iteration is:\n",
      "[2]\ttraining's auc: 0.739295\tvalid_1's auc: 0.629298\n",
      "Training until validation scores don't improve for 100 rounds\n",
      "Early stopping, best iteration is:\n",
      "[111]\ttraining's auc: 0.959948\tvalid_1's auc: 0.906187\n",
      "Training until validation scores don't improve for 100 rounds\n",
      "Early stopping, best iteration is:\n",
      "[1]\ttraining's auc: 0.545943\tvalid_1's auc: 0.512021\n",
      "Training until validation scores don't improve for 100 rounds\n",
      "Early stopping, best iteration is:\n",
      "[141]\ttraining's auc: 0.9743\tvalid_1's auc: 0.666856\n",
      "Training until validation scores don't improve for 100 rounds\n",
      "Early stopping, best iteration is:\n",
      "[103]\ttraining's auc: 0.979502\tvalid_1's auc: 0.630265\n",
      "Training until validation scores don't improve for 100 rounds\n",
      "Early stopping, best iteration is:\n",
      "[7]\ttraining's auc: 0.890678\tvalid_1's auc: 0.615803\n",
      "Training until validation scores don't improve for 100 rounds\n",
      "Early stopping, best iteration is:\n",
      "[194]\ttraining's auc: 0.987233\tvalid_1's auc: 0.905209\n",
      "Training until validation scores don't improve for 100 rounds\n",
      "Early stopping, best iteration is:\n",
      "[2]\ttraining's auc: 0.690166\tvalid_1's auc: 0.708614\n",
      "Training until validation scores don't improve for 100 rounds\n",
      "Early stopping, best iteration is:\n",
      "[2]\ttraining's auc: 0.658883\tvalid_1's auc: 0.793293\n",
      "Training until validation scores don't improve for 100 rounds\n",
      "Early stopping, best iteration is:\n",
      "[9]\ttraining's auc: 0.900795\tvalid_1's auc: 0.605768\n",
      "Training until validation scores don't improve for 100 rounds\n",
      "Early stopping, best iteration is:\n",
      "[1]\ttraining's auc: 0.728687\tvalid_1's auc: 0.649771\n",
      "Training until validation scores don't improve for 100 rounds\n",
      "Early stopping, best iteration is:\n",
      "[84]\ttraining's auc: 0.914514\tvalid_1's auc: 0.882548\n",
      "Training until validation scores don't improve for 100 rounds\n",
      "Early stopping, best iteration is:\n",
      "[128]\ttraining's auc: 0.95927\tvalid_1's auc: 0.361201\n",
      "Training until validation scores don't improve for 100 rounds\n",
      "Early stopping, best iteration is:\n",
      "[127]\ttraining's auc: 0.948593\tvalid_1's auc: 0.6653\n",
      "Training until validation scores don't improve for 100 rounds\n",
      "Early stopping, best iteration is:\n",
      "[39]\ttraining's auc: 0.92797\tvalid_1's auc: 0.632234\n",
      "Training until validation scores don't improve for 100 rounds\n",
      "Early stopping, best iteration is:\n",
      "[20]\ttraining's auc: 0.938133\tvalid_1's auc: 0.576527\n",
      "Training until validation scores don't improve for 100 rounds\n",
      "Early stopping, best iteration is:\n",
      "[85]\ttraining's auc: 0.969722\tvalid_1's auc: 0.908906\n",
      "Training until validation scores don't improve for 100 rounds\n",
      "Early stopping, best iteration is:\n",
      "[15]\ttraining's auc: 0.911364\tvalid_1's auc: 0.83879\n",
      "Training until validation scores don't improve for 100 rounds\n",
      "Early stopping, best iteration is:\n",
      "[15]\ttraining's auc: 0.914072\tvalid_1's auc: 0.86532\n",
      "Training until validation scores don't improve for 100 rounds\n",
      "Early stopping, best iteration is:\n",
      "[56]\ttraining's auc: 0.962973\tvalid_1's auc: 0.640954\n",
      "Training until validation scores don't improve for 100 rounds\n",
      "Early stopping, best iteration is:\n",
      "[6]\ttraining's auc: 0.890565\tvalid_1's auc: 0.586086\n",
      "Training until validation scores don't improve for 100 rounds\n",
      "Early stopping, best iteration is:\n",
      "[22]\ttraining's auc: 0.907055\tvalid_1's auc: 0.912506\n",
      "Training until validation scores don't improve for 100 rounds\n",
      "Early stopping, best iteration is:\n",
      "[3]\ttraining's auc: 0.701616\tvalid_1's auc: 0.687173\n",
      "Training until validation scores don't improve for 100 rounds\n",
      "Early stopping, best iteration is:\n",
      "[17]\ttraining's auc: 0.838148\tvalid_1's auc: 0.77875\n",
      "Training until validation scores don't improve for 100 rounds\n",
      "Early stopping, best iteration is:\n",
      "[23]\ttraining's auc: 0.948382\tvalid_1's auc: 0.654556\n",
      "Training until validation scores don't improve for 100 rounds\n",
      "Early stopping, best iteration is:\n",
      "[31]\ttraining's auc: 0.96878\tvalid_1's auc: 0.557825\n",
      "Training until validation scores don't improve for 100 rounds\n",
      "Early stopping, best iteration is:\n",
      "[68]\ttraining's auc: 0.959005\tvalid_1's auc: 0.911686\n",
      "Training until validation scores don't improve for 100 rounds\n",
      "Early stopping, best iteration is:\n",
      "[8]\ttraining's auc: 0.7648\tvalid_1's auc: 0.629427\n",
      "Training until validation scores don't improve for 100 rounds\n",
      "Early stopping, best iteration is:\n",
      "[230]\ttraining's auc: 0.993361\tvalid_1's auc: 0.811178\n",
      "Training until validation scores don't improve for 100 rounds\n",
      "Early stopping, best iteration is:\n",
      "[8]\ttraining's auc: 0.822209\tvalid_1's auc: 0.738899\n",
      "Training until validation scores don't improve for 100 rounds\n",
      "Early stopping, best iteration is:\n",
      "[11]\ttraining's auc: 0.849102\tvalid_1's auc: 0.537636\n",
      "Training until validation scores don't improve for 100 rounds\n",
      "Early stopping, best iteration is:\n",
      "[271]\ttraining's auc: 0.992131\tvalid_1's auc: 0.928583\n",
      "Training until validation scores don't improve for 100 rounds\n",
      "Early stopping, best iteration is:\n",
      "[2]\ttraining's auc: 0.690381\tvalid_1's auc: 0.706473\n",
      "Training until validation scores don't improve for 100 rounds\n",
      "Early stopping, best iteration is:\n",
      "[6]\ttraining's auc: 0.694422\tvalid_1's auc: 0.809906\n",
      "Training until validation scores don't improve for 100 rounds\n",
      "Early stopping, best iteration is:\n",
      "[21]\ttraining's auc: 0.949292\tvalid_1's auc: 0.717706\n",
      "Training until validation scores don't improve for 100 rounds\n",
      "Early stopping, best iteration is:\n",
      "[51]\ttraining's auc: 0.976842\tvalid_1's auc: 0.596683\n",
      "Training until validation scores don't improve for 100 rounds\n",
      "Early stopping, best iteration is:\n",
      "[145]\ttraining's auc: 0.984346\tvalid_1's auc: 0.911866\n",
      "Training until validation scores don't improve for 100 rounds\n",
      "Early stopping, best iteration is:\n",
      "[3]\ttraining's auc: 0.9086\tvalid_1's auc: 0.870375\n",
      "Training until validation scores don't improve for 100 rounds\n",
      "Early stopping, best iteration is:\n",
      "[3]\ttraining's auc: 0.907106\tvalid_1's auc: 0.883\n",
      "Training until validation scores don't improve for 100 rounds\n",
      "Early stopping, best iteration is:\n",
      "[55]\ttraining's auc: 0.965376\tvalid_1's auc: 0.709079\n",
      "Training until validation scores don't improve for 100 rounds\n",
      "Early stopping, best iteration is:\n",
      "[16]\ttraining's auc: 0.866639\tvalid_1's auc: 0.53951\n",
      "Training until validation scores don't improve for 100 rounds\n",
      "Early stopping, best iteration is:\n",
      "[809]\ttraining's auc: 0.999996\tvalid_1's auc: 0.929096\n",
      "Training until validation scores don't improve for 100 rounds\n",
      "Early stopping, best iteration is:\n",
      "[15]\ttraining's auc: 0.781211\tvalid_1's auc: 0.680594\n",
      "Training until validation scores don't improve for 100 rounds\n",
      "Early stopping, best iteration is:\n",
      "[15]\ttraining's auc: 0.769714\tvalid_1's auc: 0.737597\n",
      "Training until validation scores don't improve for 100 rounds\n",
      "Early stopping, best iteration is:\n",
      "[24]\ttraining's auc: 0.888217\tvalid_1's auc: 0.627147\n",
      "Training until validation scores don't improve for 100 rounds\n",
      "Early stopping, best iteration is:\n",
      "[13]\ttraining's auc: 0.901511\tvalid_1's auc: 0.566126\n",
      "Training until validation scores don't improve for 100 rounds\n",
      "Early stopping, best iteration is:\n",
      "[88]\ttraining's auc: 0.96121\tvalid_1's auc: 0.907627\n",
      "Training until validation scores don't improve for 100 rounds\n",
      "Early stopping, best iteration is:\n",
      "[4]\ttraining's auc: 0.714058\tvalid_1's auc: 0.678738\n",
      "Training until validation scores don't improve for 100 rounds\n",
      "Early stopping, best iteration is:\n",
      "[80]\ttraining's auc: 0.968033\tvalid_1's auc: 0.80501\n",
      "Training until validation scores don't improve for 100 rounds\n",
      "Early stopping, best iteration is:\n",
      "[30]\ttraining's auc: 0.930282\tvalid_1's auc: 0.641357\n"
     ]
    }
   ],
   "source": [
    "param[\"feature_fraction\"] = 0.1\n",
    "\n",
    "feature_importance_df_01 = pd.DataFrame()\n",
    "\n",
    "for seed in range(n_seeds_trial):\n",
    "    param[\"feature_fraction_seed\"] = seed\n",
    "    \n",
    "    for fold, (idx_tr, idx_te) in enumerate(kf.split(df)):\n",
    "    \n",
    "        trn_data = lgb.Dataset(df.iloc[idx_tr][cols], label=df.iloc[idx_tr][\"target\"])\n",
    "        val_data = lgb.Dataset(df.iloc[idx_te][cols], label=df.iloc[idx_te][\"target\"])\n",
    "\n",
    "        num_round = 10000\n",
    "        clf = lgb.train(param, trn_data, num_round, valid_sets = [trn_data, val_data], verbose_eval=-1, early_stopping_rounds = 100)\n",
    "\n",
    "        fold_importance_df = pd.DataFrame()\n",
    "        fold_importance_df[\"Feature\"] = cols\n",
    "        fold_importance_df[\"importance\"] = clf.feature_importance(importance_type = \"gain\")\n",
    "        fold_importance_df[\"seed\"] = seed\n",
    "        fold_importance_df[\"fold\"] = fold + 1\n",
    "        feature_importance_df_01 = pd.concat([feature_importance_df_01, fold_importance_df], axis=0)"
   ]
  },
  {
   "cell_type": "code",
   "execution_count": 134,
   "metadata": {
    "ExecuteTime": {
     "end_time": "2020-08-30T02:23:30.795777Z",
     "start_time": "2020-08-30T02:23:29.089967Z"
    }
   },
   "outputs": [
    {
     "data": {
      "image/png": "[encoded data removed]",
      "text/plain": [
       "<Figure size 1008x720 with 1 Axes>"
      ]
     },
     "metadata": {
      "needs_background": "light"
     },
     "output_type": "display_data"
    }
   ],
   "source": [
    "plt.figure(figsize=(14,10))\n",
    "sns.barplot(x=\"importance\",\n",
    "            y=\"Feature\",\n",
    "            data=feature_importance_df_01.sort_values(by=\"importance\",\n",
    "                                           ascending=False))\n",
    "plt.title('LightGBM Features (avg over folds)')\n",
    "plt.tight_layout()"
   ]
  },
  {
   "cell_type": "code",
   "execution_count": null,
   "metadata": {},
   "outputs": [],
   "source": []
  },
  {
   "cell_type": "code",
   "execution_count": null,
   "metadata": {},
   "outputs": [],
   "source": []
  },
  {
   "cell_type": "code",
   "execution_count": 135,
   "metadata": {
    "ExecuteTime": {
     "end_time": "2020-08-30T02:23:30.813615Z",
     "start_time": "2020-08-30T02:23:30.801056Z"
    }
   },
   "outputs": [],
   "source": [
    "feature_importance_df_10[\"fraction\"] = \"fraction_1.0\"\n",
    "feature_importance_df_05[\"fraction\"] = \"fraction_0.5\"\n",
    "feature_importance_df_01[\"fraction\"] = \"fraction_0.1\""
   ]
  },
  {
   "cell_type": "code",
   "execution_count": 136,
   "metadata": {
    "ExecuteTime": {
     "end_time": "2020-08-30T02:23:30.845719Z",
     "start_time": "2020-08-30T02:23:30.820702Z"
    }
   },
   "outputs": [],
   "source": [
    "df_frac = pd.concat([feature_importance_df_10, feature_importance_df_05, feature_importance_df_01], axis = 0).reset_index()"
   ]
  },
  {
   "cell_type": "code",
   "execution_count": 137,
   "metadata": {
    "ExecuteTime": {
     "end_time": "2020-08-30T02:23:30.893102Z",
     "start_time": "2020-08-30T02:23:30.859306Z"
    }
   },
   "outputs": [
    {
     "data": {
      "text/html": [
       "<div>\n",
       "<style scoped>\n",
       "    .dataframe tbody tr th:only-of-type {\n",
       "        vertical-align: middle;\n",
       "    }\n",
       "\n",
       "    .dataframe tbody tr th {\n",
       "        vertical-align: top;\n",
       "    }\n",
       "\n",
       "    .dataframe thead th {\n",
       "        text-align: right;\n",
       "    }\n",
       "</style>\n",
       "<table border=\"1\" class=\"dataframe\">\n",
       "  <thead>\n",
       "    <tr style=\"text-align: right;\">\n",
       "      <th></th>\n",
       "      <th>index</th>\n",
       "      <th>Feature</th>\n",
       "      <th>importance</th>\n",
       "      <th>seed</th>\n",
       "      <th>fold</th>\n",
       "      <th>fraction</th>\n",
       "    </tr>\n",
       "  </thead>\n",
       "  <tbody>\n",
       "    <tr>\n",
       "      <th>0</th>\n",
       "      <td>0</td>\n",
       "      <td>feature_0</td>\n",
       "      <td>910.074</td>\n",
       "      <td>0</td>\n",
       "      <td>1</td>\n",
       "      <td>fraction_1.0</td>\n",
       "    </tr>\n",
       "    <tr>\n",
       "      <th>672</th>\n",
       "      <td>12</td>\n",
       "      <td>feature_12</td>\n",
       "      <td>0.000</td>\n",
       "      <td>6</td>\n",
       "      <td>4</td>\n",
       "      <td>fraction_1.0</td>\n",
       "    </tr>\n",
       "    <tr>\n",
       "      <th>659</th>\n",
       "      <td>19</td>\n",
       "      <td>feature_19</td>\n",
       "      <td>98.171</td>\n",
       "      <td>6</td>\n",
       "      <td>3</td>\n",
       "      <td>fraction_1.0</td>\n",
       "    </tr>\n",
       "    <tr>\n",
       "      <th>660</th>\n",
       "      <td>0</td>\n",
       "      <td>feature_0</td>\n",
       "      <td>7365.171</td>\n",
       "      <td>6</td>\n",
       "      <td>4</td>\n",
       "      <td>fraction_1.0</td>\n",
       "    </tr>\n",
       "    <tr>\n",
       "      <th>661</th>\n",
       "      <td>1</td>\n",
       "      <td>feature_1</td>\n",
       "      <td>7120.812</td>\n",
       "      <td>6</td>\n",
       "      <td>4</td>\n",
       "      <td>fraction_1.0</td>\n",
       "    </tr>\n",
       "  </tbody>\n",
       "</table>\n",
       "</div>"
      ],
      "text/plain": [
       "     index     Feature  importance  seed  fold      fraction\n",
       "0        0   feature_0     910.074     0     1  fraction_1.0\n",
       "672     12  feature_12       0.000     6     4  fraction_1.0\n",
       "659     19  feature_19      98.171     6     3  fraction_1.0\n",
       "660      0   feature_0    7365.171     6     4  fraction_1.0\n",
       "661      1   feature_1    7120.812     6     4  fraction_1.0"
      ]
     },
     "execution_count": 137,
     "metadata": {},
     "output_type": "execute_result"
    }
   ],
   "source": [
    "df_frac.sort_values(by = \"fraction\", ascending = False).head()"
   ]
  },
  {
   "cell_type": "code",
   "execution_count": 138,
   "metadata": {
    "ExecuteTime": {
     "end_time": "2020-08-30T02:23:30.906930Z",
     "start_time": "2020-08-30T02:23:30.897433Z"
    }
   },
   "outputs": [],
   "source": [
    "df_frac[\"importance\"] = df_frac[\"importance\"].astype(float)"
   ]
  },
  {
   "cell_type": "code",
   "execution_count": 139,
   "metadata": {
    "ExecuteTime": {
     "end_time": "2020-08-30T02:23:35.354861Z",
     "start_time": "2020-08-30T02:23:30.910122Z"
    },
    "scrolled": false
   },
   "outputs": [
    {
     "data": {
      "image/png": "[encoded data removed]",
      "text/plain": [
       "<Figure size 1008x1008 with 1 Axes>"
      ]
     },
     "metadata": {
      "needs_background": "light"
     },
     "output_type": "display_data"
    }
   ],
   "source": [
    "plt.figure(figsize=(14,14))\n",
    "sns.barplot(x=\"importance\",\n",
    "            y=\"Feature\",\n",
    "            hue = \"fraction\",\n",
    "            data=df_frac.sort_values(by=[\"fraction\", \"importance\"],\n",
    "                                           ascending=[False, False]))\n",
    "plt.title('LightGBM Features (avg over folds)')\n",
    "plt.tight_layout()"
   ]
  },
  {
   "cell_type": "code",
   "execution_count": 140,
   "metadata": {
    "ExecuteTime": {
     "end_time": "2020-08-30T02:23:39.053871Z",
     "start_time": "2020-08-30T02:23:35.359861Z"
    },
    "scrolled": false
   },
   "outputs": [
    {
     "data": {
      "image/png": "[encoded data removed]",
      "text/plain": [
       "<Figure size 1008x720 with 1 Axes>"
      ]
     },
     "metadata": {
      "needs_background": "light"
     },
     "output_type": "display_data"
    }
   ],
   "source": [
    "features_high = df_frac.groupby([\"Feature\"])[\"importance\"].mean().sort_values(ascending = False).head(15).index.tolist()\n",
    "\n",
    "plt.figure(figsize=(14,10))\n",
    "sns.barplot(x=\"importance\",\n",
    "            y=\"Feature\",\n",
    "            hue = \"fraction\",\n",
    "            data=df_frac[df_frac[\"Feature\"].isin(features_high)].sort_values(by=[\"fraction\", \"importance\"],\n",
    "                                           ascending=[False,False]))\n",
    "plt.title('LightGBM Features (avg over folds)')\n",
    "plt.tight_layout()"
   ]
  },
  {
   "cell_type": "code",
   "execution_count": 141,
   "metadata": {
    "ExecuteTime": {
     "end_time": "2020-08-30T02:23:39.129089Z",
     "start_time": "2020-08-30T02:23:39.059501Z"
    }
   },
   "outputs": [
    {
     "data": {
      "text/html": [
       "<div>\n",
       "<style scoped>\n",
       "    .dataframe tbody tr th:only-of-type {\n",
       "        vertical-align: middle;\n",
       "    }\n",
       "\n",
       "    .dataframe tbody tr th {\n",
       "        vertical-align: top;\n",
       "    }\n",
       "\n",
       "    .dataframe thead th {\n",
       "        text-align: right;\n",
       "    }\n",
       "</style>\n",
       "<table border=\"1\" class=\"dataframe\">\n",
       "  <thead>\n",
       "    <tr style=\"text-align: right;\">\n",
       "      <th></th>\n",
       "      <th>Feature</th>\n",
       "      <th>fraction</th>\n",
       "      <th>importance</th>\n",
       "    </tr>\n",
       "  </thead>\n",
       "  <tbody>\n",
       "  </tbody>\n",
       "</table>\n",
       "</div>"
      ],
      "text/plain": [
       "Empty DataFrame\n",
       "Columns: [Feature, fraction, importance]\n",
       "Index: []"
      ]
     },
     "execution_count": 141,
     "metadata": {},
     "output_type": "execute_result"
    }
   ],
   "source": [
    "features_zero = df_frac.groupby([\"fraction\",\"Feature\"])[\"importance\"].mean().reset_index()\n",
    "features_zero = features_zero[features_zero[\"importance\"] == 0][\"Feature\"].unique().tolist()\n",
    "df_frac[df_frac[\"Feature\"].isin(features_zero)].groupby([\"Feature\", \"fraction\"])[\"importance\"].mean().reset_index()"
   ]
  },
  {
   "cell_type": "code",
   "execution_count": 142,
   "metadata": {
    "ExecuteTime": {
     "end_time": "2020-08-30T02:23:39.147735Z",
     "start_time": "2020-08-30T02:23:39.133054Z"
    }
   },
   "outputs": [],
   "source": [
    "df_frac = df_frac[[\"Feature\",\"importance\",\"seed\",\"fold\",\"fraction\"]]"
   ]
  },
  {
   "cell_type": "code",
   "execution_count": 143,
   "metadata": {
    "ExecuteTime": {
     "end_time": "2020-08-30T02:23:39.160871Z",
     "start_time": "2020-08-30T02:23:39.152913Z"
    }
   },
   "outputs": [],
   "source": [
    "df_frac[\"importance\"] = df_frac[\"importance\"].astype(float)"
   ]
  },
  {
   "cell_type": "code",
   "execution_count": 144,
   "metadata": {
    "ExecuteTime": {
     "end_time": "2020-08-30T02:23:39.187701Z",
     "start_time": "2020-08-30T02:23:39.165361Z"
    }
   },
   "outputs": [
    {
     "data": {
      "text/html": [
       "<div>\n",
       "<style scoped>\n",
       "    .dataframe tbody tr th:only-of-type {\n",
       "        vertical-align: middle;\n",
       "    }\n",
       "\n",
       "    .dataframe tbody tr th {\n",
       "        vertical-align: top;\n",
       "    }\n",
       "\n",
       "    .dataframe thead th {\n",
       "        text-align: right;\n",
       "    }\n",
       "</style>\n",
       "<table border=\"1\" class=\"dataframe\">\n",
       "  <thead>\n",
       "    <tr style=\"text-align: right;\">\n",
       "      <th></th>\n",
       "      <th>Feature</th>\n",
       "      <th>importance</th>\n",
       "      <th>seed</th>\n",
       "      <th>fold</th>\n",
       "      <th>fraction</th>\n",
       "    </tr>\n",
       "  </thead>\n",
       "  <tbody>\n",
       "    <tr>\n",
       "      <th>0</th>\n",
       "      <td>feature_0</td>\n",
       "      <td>910.074</td>\n",
       "      <td>0</td>\n",
       "      <td>1</td>\n",
       "      <td>fraction_1.0</td>\n",
       "    </tr>\n",
       "    <tr>\n",
       "      <th>1</th>\n",
       "      <td>feature_1</td>\n",
       "      <td>2627.331</td>\n",
       "      <td>0</td>\n",
       "      <td>1</td>\n",
       "      <td>fraction_1.0</td>\n",
       "    </tr>\n",
       "    <tr>\n",
       "      <th>2</th>\n",
       "      <td>feature_2</td>\n",
       "      <td>2485.881</td>\n",
       "      <td>0</td>\n",
       "      <td>1</td>\n",
       "      <td>fraction_1.0</td>\n",
       "    </tr>\n",
       "    <tr>\n",
       "      <th>3</th>\n",
       "      <td>feature_3</td>\n",
       "      <td>0.000</td>\n",
       "      <td>0</td>\n",
       "      <td>1</td>\n",
       "      <td>fraction_1.0</td>\n",
       "    </tr>\n",
       "    <tr>\n",
       "      <th>4</th>\n",
       "      <td>feature_4</td>\n",
       "      <td>0.000</td>\n",
       "      <td>0</td>\n",
       "      <td>1</td>\n",
       "      <td>fraction_1.0</td>\n",
       "    </tr>\n",
       "  </tbody>\n",
       "</table>\n",
       "</div>"
      ],
      "text/plain": [
       "     Feature  importance  seed  fold      fraction\n",
       "0  feature_0     910.074     0     1  fraction_1.0\n",
       "1  feature_1    2627.331     0     1  fraction_1.0\n",
       "2  feature_2    2485.881     0     1  fraction_1.0\n",
       "3  feature_3       0.000     0     1  fraction_1.0\n",
       "4  feature_4       0.000     0     1  fraction_1.0"
      ]
     },
     "execution_count": 144,
     "metadata": {},
     "output_type": "execute_result"
    }
   ],
   "source": [
    "df_frac.head()"
   ]
  },
  {
   "cell_type": "code",
   "execution_count": 145,
   "metadata": {
    "ExecuteTime": {
     "end_time": "2020-08-30T02:23:39.216081Z",
     "start_time": "2020-08-30T02:23:39.193132Z"
    }
   },
   "outputs": [],
   "source": [
    "df_mean = df_frac.groupby([\"Feature\",\"fraction\"])[\"importance\"].mean().reset_index()"
   ]
  },
  {
   "cell_type": "code",
   "execution_count": 146,
   "metadata": {
    "ExecuteTime": {
     "end_time": "2020-08-30T02:23:39.464310Z",
     "start_time": "2020-08-30T02:23:39.219908Z"
    },
    "scrolled": false
   },
   "outputs": [
    {
     "data": {
      "image/png": "[encoded data removed]",
      "text/plain": [
       "<Figure size 432x288 with 1 Axes>"
      ]
     },
     "metadata": {
      "needs_background": "light"
     },
     "output_type": "display_data"
    }
   ],
   "source": [
    "df_mean.groupby([\"fraction\"])[\"importance\"].std().plot(kind = \"bar\", title = \"std of feeature importance\");"
   ]
  },
  {
   "cell_type": "code",
   "execution_count": 147,
   "metadata": {
    "ExecuteTime": {
     "end_time": "2020-08-30T02:23:39.477728Z",
     "start_time": "2020-08-30T02:23:39.468006Z"
    }
   },
   "outputs": [],
   "source": [
    "# df_frac.to_csv(\"../input/df_frac_synthe.csv\", index = False)"
   ]
  },
  {
   "cell_type": "code",
   "execution_count": 148,
   "metadata": {
    "ExecuteTime": {
     "end_time": "2020-08-30T02:23:39.489674Z",
     "start_time": "2020-08-30T02:23:39.485042Z"
    }
   },
   "outputs": [],
   "source": [
    "# sns.pairplot(df);"
   ]
  },
  {
   "cell_type": "code",
   "execution_count": null,
   "metadata": {},
   "outputs": [],
   "source": []
  }
 ],
 "metadata": {
  "kernelspec": {
   "display_name": "Python 3",
   "language": "python",
   "name": "python3"
  },
  "language_info": {
   "codemirror_mode": {
    "name": "ipython",
    "version": 3
   },
   "file_extension": ".py",
   "mimetype": "text/x-python",
   "name": "python",
   "nbconvert_exporter": "python",
   "pygments_lexer": "ipython3",
   "version": "3.6.10"
  },
  "toc": {
   "base_numbering": 1,
   "nav_menu": {},
   "number_sections": true,
   "sideBar": true,
   "skip_h1_title": false,
   "title_cell": "Table of Contents",
   "title_sidebar": "Contents",
   "toc_cell": false,
   "toc_position": {},
   "toc_section_display": true,
   "toc_window_display": true
  },
  "varInspector": {
   "cols": {
    "lenName": 16,
    "lenType": 16,
    "lenVar": 40
   },
   "kernels_config": {
    "python": {
     "delete_cmd_postfix": "",
     "delete_cmd_prefix": "del ",
     "library": "var_list.py",
     "varRefreshCmd": "print(var_dic_list())"
    },
    "r": {
     "delete_cmd_postfix": ") ",
     "delete_cmd_prefix": "rm(",
     "library": "var_list.r",
     "varRefreshCmd": "cat(var_dic_list()) "
    }
   },
   "types_to_exclude": [
    "module",
    "function",
    "builtin_function_or_method",
    "instance",
    "_Feature"
   ],
   "window_display": false
  }
 },
 "nbformat": 4,
 "nbformat_minor": 4
}
